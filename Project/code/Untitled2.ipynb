{
 "cells": [
  {
   "cell_type": "code",
   "execution_count": 2,
   "metadata": {},
   "outputs": [],
   "source": [
    "#%run matplotlib_setup.ipy\n",
    "from matplotlib import pyplot as plt\n",
    "import numpy as np\n",
    "import kwant\n",
    "import math\n",
    "from math import atan2, pi, sqrt, cos, sin\n",
    "from cmath import exp\n"
   ]
  },
  {
   "cell_type": "code",
   "execution_count": 4,
   "metadata": {},
   "outputs": [
    {
     "ename": "SyntaxError",
     "evalue": "invalid syntax (<ipython-input-4-af3410a0804e>, line 1)",
     "output_type": "error",
     "traceback": [
      "\u001b[0;36m  File \u001b[0;32m\"<ipython-input-4-af3410a0804e>\"\u001b[0;36m, line \u001b[0;32m1\u001b[0m\n\u001b[0;31m    graphene = kwant.lattice.general([(1, 0), (sin(30), cos(30)],\u001b[0m\n\u001b[0m                                                               ^\u001b[0m\n\u001b[0;31mSyntaxError\u001b[0m\u001b[0;31m:\u001b[0m invalid syntax\n"
     ]
    }
   ],
   "source": [
    "graphene = kwant.lattice.general([(1, 0), (sin(30), cos(30)],\n",
    "                                 [(0, 0), (0, 1 / sqrt(3))])\n",
    "a, b = graphene.sublattices"
   ]
  },
  {
   "cell_type": "code",
   "execution_count": null,
   "metadata": {},
   "outputs": [],
   "source": []
  }
 ],
 "metadata": {
  "kernelspec": {
   "display_name": "Python 3",
   "language": "python",
   "name": "python3"
  },
  "language_info": {
   "codemirror_mode": {
    "name": "ipython",
    "version": 3
   },
   "file_extension": ".py",
   "mimetype": "text/x-python",
   "name": "python",
   "nbconvert_exporter": "python",
   "pygments_lexer": "ipython3",
   "version": "3.6.6"
  }
 },
 "nbformat": 4,
 "nbformat_minor": 2
}
