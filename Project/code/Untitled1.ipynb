{
 "cells": [
  {
   "cell_type": "code",
   "execution_count": 1,
   "metadata": {},
   "outputs": [],
   "source": [
    "import tinyarray\n",
    "import numpy\n",
    "\n",
    "sigma_0 = tinyarray.array([[1, 0], [0, 1]])\n",
    "sigma_x = tinyarray.array([[0, 1], [1, 0]])\n",
    "sigma_y = tinyarray.array([[0, -1j], [1j, 0]])\n",
    "sigma_z = tinyarray.array([[1, 0], [0, -1]])"
   ]
  },
  {
   "cell_type": "code",
   "execution_count": 6,
   "metadata": {},
   "outputs": [
    {
     "ename": "SyntaxError",
     "evalue": "unexpected character after line continuation character (<ipython-input-6-3bf5875d0135>, line 1)",
     "output_type": "error",
     "traceback": [
      "\u001b[0;36m  File \u001b[0;32m\"<ipython-input-6-3bf5875d0135>\"\u001b[0;36m, line \u001b[0;32m1\u001b[0m\n\u001b[0;31m    sys[(lat(x, y) for x in range(L) for y in range(W))] = \\4 * t * sigma_0 + e_z * sigma_z\u001b[0m\n\u001b[0m                                                                                           ^\u001b[0m\n\u001b[0;31mSyntaxError\u001b[0m\u001b[0;31m:\u001b[0m unexpected character after line continuation character\n"
     ]
    }
   ],
   "source": [
    "sys[(lat(x, y) for x in range(L) for y in range(W))] = \\\n",
    "    4 * t * sigma_0 + e_z * sigma_z\n",
    "    # hoppings in x-direction\n",
    "    sys[kwant.builder.HoppingKind((1, 0), lat, lat)] = \\\n",
    "        -t * sigma_0 - 1j * alpha * sigma_y\n",
    "    # hoppings in y-directions\n",
    "    sys[kwant.builder.HoppingKind((0, 1), lat, lat)] = \\\n",
    "        -t * sigma_0 + 1j * alpha * sigma_x"
   ]
  },
  {
   "cell_type": "code",
   "execution_count": 5,
   "metadata": {},
   "outputs": [
    {
     "ename": "IndentationError",
     "evalue": "unexpected indent (<ipython-input-5-20074d6c3761>, line 3)",
     "output_type": "error",
     "traceback": [
      "\u001b[0;36m  File \u001b[0;32m\"<ipython-input-5-20074d6c3761>\"\u001b[0;36m, line \u001b[0;32m3\u001b[0m\n\u001b[0;31m    lead[kwant.builder.HoppingKind((1, 0), lat, lat)] = \\\u001b[0m\n\u001b[0m    ^\u001b[0m\n\u001b[0;31mIndentationError\u001b[0m\u001b[0;31m:\u001b[0m unexpected indent\n"
     ]
    }
   ],
   "source": [
    "lead[(lat(0, j) for j in xrange(W))] = 4 * t * sigma_0 + e_z * sigma_z\n",
    "    # hoppings in x-direction\n",
    "    lead[kwant.builder.HoppingKind((1, 0), lat, lat)] = \\\n",
    "        -t * sigma_0 - 1j * alpha * sigma_y\n",
    "    # hoppings in y-directions\n",
    "    lead[kwant.builder.HoppingKind((0, 1), lat, lat)] = \\\n",
    "        -t * sigma_0 + 1j * alpha * sigma_x"
   ]
  },
  {
   "cell_type": "code",
   "execution_count": 7,
   "metadata": {},
   "outputs": [],
   "source": [
    "def make_system(a=1, t=1.0, W=10, L=30, L_well=10):\n",
    "    # Start with an empty tight-binding system and a single square lattice.\n",
    "    # `a` is the lattice constant (by default set to 1 for simplicity.\n",
    "    lat = kwant.lattice.square(a)\n",
    "\n",
    "    sys = kwant.Builder()\n",
    "\n",
    "    #### Define the scattering region. ####\n",
    "    # Potential profile\n",
    "    def potential(site, pot):\n",
    "        (x, y) = site.pos\n",
    "        if (L - L_well) / 2 < x < (L + L_well) / 2:\n",
    "            return pot\n",
    "        else:\n",
    "            return 0"
   ]
  },
  {
   "cell_type": "code",
   "execution_count": 9,
   "metadata": {},
   "outputs": [
    {
     "ename": "IndentationError",
     "evalue": "unindent does not match any outer indentation level (<tokenize>, line 4)",
     "output_type": "error",
     "traceback": [
      "\u001b[0;36m  File \u001b[0;32m\"<tokenize>\"\u001b[0;36m, line \u001b[0;32m4\u001b[0m\n\u001b[0;31m    sys[(lat(x, y) for x in range(L) for y in range(W))] = onsite\u001b[0m\n\u001b[0m    ^\u001b[0m\n\u001b[0;31mIndentationError\u001b[0m\u001b[0;31m:\u001b[0m unindent does not match any outer indentation level\n"
     ]
    }
   ],
   "source": [
    "def onsite(site, pot=0):\n",
    "        return 4 * t + potential(site, pot)\n",
    "\n",
    "    sys[(lat(x, y) for x in range(L) for y in range(W))] = onsite\n",
    "    sys[lat.neighbors()] = -t"
   ]
  },
  {
   "cell_type": "code",
   "execution_count": 10,
   "metadata": {},
   "outputs": [
    {
     "ename": "NameError",
     "evalue": "name 'welldepths' is not defined",
     "output_type": "error",
     "traceback": [
      "\u001b[0;31m---------------------------------------------------------------------------\u001b[0m",
      "\u001b[0;31mNameError\u001b[0m                                 Traceback (most recent call last)",
      "\u001b[0;32mcell_name\u001b[0m in \u001b[0;36masync-def-wrapper\u001b[0;34m()\u001b[0m\n",
      "\u001b[0;31mNameError\u001b[0m: name 'welldepths' is not defined"
     ]
    }
   ],
   "source": [
    "# Compute conductance\n",
    "    data = []\n",
    "    for welldepth in welldepths:\n",
    "        smatrix = kwant.smatrix(sys, energy, args=[-welldepth])\n",
    "        data.append(smatrix.transmission(1, 0))\n",
    "\n",
    "    pyplot.figure()\n",
    "    pyplot.plot(welldepths, data)\n",
    "    pyplot.xlabel(\"well depth [t]\")\n",
    "    pyplot.ylabel(\"conductance [e^2/h]\")\n",
    "    pyplot.show()"
   ]
  },
  {
   "cell_type": "code",
   "execution_count": null,
   "metadata": {},
   "outputs": [],
   "source": []
  }
 ],
 "metadata": {
  "kernelspec": {
   "display_name": "Python 3",
   "language": "python",
   "name": "python3"
  },
  "language_info": {
   "codemirror_mode": {
    "name": "ipython",
    "version": 3
   },
   "file_extension": ".py",
   "mimetype": "text/x-python",
   "name": "python",
   "nbconvert_exporter": "python",
   "pygments_lexer": "ipython3",
   "version": "3.6.6"
  }
 },
 "nbformat": 4,
 "nbformat_minor": 2
}
